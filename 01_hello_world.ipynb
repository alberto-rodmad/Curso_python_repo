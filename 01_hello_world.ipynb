{
 "cells": [
  {
   "cell_type": "markdown",
   "id": "a18fbe20",
   "metadata": {},
   "source": [
    "# Mi primer programa\n",
    "## Segunda linea\n",
    "**Negritas**"
   ]
  },
  {
   "cell_type": "code",
   "execution_count": 10,
   "id": "a9e04772",
   "metadata": {},
   "outputs": [
    {
     "name": "stdout",
     "output_type": "stream",
     "text": [
      "hola mundo\n"
     ]
    }
   ],
   "source": [
    "print(\"hola mundo\")"
   ]
  },
  {
   "cell_type": "code",
   "execution_count": 5,
   "id": "e323ea31",
   "metadata": {},
   "outputs": [],
   "source": [
    "a = 1\n",
    "b = 2"
   ]
  },
  {
   "cell_type": "markdown",
   "id": "4f09bf3d",
   "metadata": {},
   "source": [
    "# Imprime C"
   ]
  },
  {
   "cell_type": "code",
   "execution_count": 7,
   "id": "d1fbc37a",
   "metadata": {},
   "outputs": [],
   "source": [
    "c = a + b"
   ]
  },
  {
   "cell_type": "code",
   "execution_count": 8,
   "id": "2fa914a4",
   "metadata": {},
   "outputs": [
    {
     "name": "stdout",
     "output_type": "stream",
     "text": [
      "3\n"
     ]
    }
   ],
   "source": [
    "print(c)"
   ]
  },
  {
   "cell_type": "code",
   "execution_count": 9,
   "id": "d54c32fa",
   "metadata": {},
   "outputs": [
    {
     "data": {
      "text/plain": [
       "8"
      ]
     },
     "execution_count": 9,
     "metadata": {},
     "output_type": "execute_result"
    }
   ],
   "source": [
    "1 + 7"
   ]
  },
  {
   "cell_type": "code",
   "execution_count": null,
   "id": "e3355767",
   "metadata": {},
   "outputs": [],
   "source": []
  },
  {
   "cell_type": "markdown",
   "id": "ae5a451e",
   "metadata": {},
   "source": []
  },
  {
   "cell_type": "markdown",
   "id": "7879faf1",
   "metadata": {},
   "source": []
  }
 ],
 "metadata": {
  "kernelspec": {
   "display_name": "base",
   "language": "python",
   "name": "python3"
  },
  "language_info": {
   "codemirror_mode": {
    "name": "ipython",
    "version": 3
   },
   "file_extension": ".py",
   "mimetype": "text/x-python",
   "name": "python",
   "nbconvert_exporter": "python",
   "pygments_lexer": "ipython3",
   "version": "3.13.5"
  }
 },
 "nbformat": 4,
 "nbformat_minor": 5
}
