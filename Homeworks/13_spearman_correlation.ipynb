{
 "cells": [
  {
   "cell_type": "markdown",
   "id": "991d314b",
   "metadata": {},
   "source": [
    "# Spearman's Correlation"
   ]
  },
  {
   "cell_type": "code",
   "execution_count": 2,
   "id": "14672ef4",
   "metadata": {},
   "outputs": [],
   "source": [
    "# Read in the data from the csv file\n",
    "\n",
    "import pandas as pd\n",
    "\n",
    "CO2Data = pd.read_csv(\"../Modelab-Python/data/Terminos_lagoon_TA_DIC_2023_RawData.csv\")"
   ]
  },
  {
   "cell_type": "markdown",
   "id": "54e958dd",
   "metadata": {},
   "source": [
    "\n",
    "### When to Use Spearman's Correlation\n",
    "\n",
    "Spearman's correlation is a non-parametric measure that evaluates the strength and direction of the association between two variables based on their ranks. Consider using Spearman's correlation in the following scenarios:\n",
    "\n",
    "1. Non-Normal Data: When your data do not follow a normal distribution, Spearman's correlation is appropriate because it does not assume normality.\n",
    "\n",
    "2. Ordinal Data: If your variables are ordinal (i.e., they represent categories with a meaningful order but unknown intervals), Spearman's correlation is suitable. For example, rankings like first, second, and third place.\n",
    "\n",
    "3. Monotonic Relationships: When the relationship between two variables is monotonic but not necessarily linear—meaning as one variable increases, the other either consistently increases or decreases—Spearman's correlation can effectively measure the strength of this association.\n",
    "\n",
    "4. Outliers Present: Spearman's correlation is more robust to outliers compared to Pearson's correlation, making it a better choice when your data contain anomalies that could disproportionately influence the results.\n",
    "\n",
    "In summary, use Spearman's correlation when your data are ordinal, not normally distributed, or when you suspect a monotonic relationship that isn't strictly linear. It's also a good choice when your data contain outliers that could affect the results of other correlation measures.\n"
   ]
  },
  {
   "cell_type": "code",
   "execution_count": 3,
   "id": "8daab864",
   "metadata": {},
   "outputs": [],
   "source": [
    "from scipy import stats\n",
    "\n",
    "def test_spearman(x, y, alpha=0.05):\n",
    "    if len(x) != len(y):\n",
    "        raise ValueError(\"Las variables deben tener la misma longitud.\")\n",
    "\n",
    "    rho, pval = stats.spearmanr(x, y)\n",
    "\n",
    "    print(f\"Spearman's correlation coefficient (rho): {rho:.3f}\")\n",
    "    print(f\"p-value: {pval:.4f}\")\n",
    "\n",
    "    if pval < alpha:\n",
    "        print(f\"✔️ Significant relationship (p < {alpha:.3f})\")\n",
    "    else:\n",
    "        print(f\"⚠️ No significant relationship (p ≥ {alpha:.3f})\")\n",
    "\n",
    "    if rho > 0:\n",
    "        print(\"📈 Positive correlation\")\n",
    "    else:\n",
    "        print(\"📉 Negative correlation\")"
   ]
  },
  {
   "cell_type": "code",
   "execution_count": 4,
   "id": "91b18fae",
   "metadata": {},
   "outputs": [
    {
     "name": "stdout",
     "output_type": "stream",
     "text": [
      "Spearman's correlation coefficient (rho): 0.838\n",
      "p-value: 0.0000\n",
      "✔️ Significant relationship (p < 0.050)\n",
      "📈 Positive correlation\n"
     ]
    }
   ],
   "source": [
    "\n",
    "test_spearman(CO2Data[\"ta_micromol_kg\"], CO2Data[\"dic_micromol_kg\"])\n",
    "\n"
   ]
  },
  {
   "cell_type": "markdown",
   "id": "290e978d",
   "metadata": {},
   "source": [
    "## Exercise: Create a function to compute the Pearson correlation."
   ]
  },
  {
   "cell_type": "markdown",
   "id": "897e3173",
   "metadata": {},
   "source": [
    "## 📘 When to Use Pearson's Correlation\n",
    "\n",
    "Pearson’s correlation coefficient (r) measures the strength and direction of the linear relationship between two continuous numerical variables.\n",
    "\n",
    "✅ Use Pearson's correlation when:\n",
    "- Data is continuous and approximately normally distributed.\n",
    "- The relationship between variables is linear.\n",
    "- The data does not contain extreme outliers, which can heavily influence the result.\n",
    "- Both variables are interval or ratio scaled (*e.g.*, height, weight, temperature, etc.).\n",
    "\n",
    "📌 Characteristics:\n",
    "\n",
    "The value of r ranges from -1 to +1:\n",
    "- +1: Perfect positive linear correlation.\n",
    "- -1: Perfect negative linear correlation.\n",
    "- 0: No linear correlation.\n",
    "\n",
    "Assumes:\n",
    "- Linearity,\n",
    "- Homoscedasticity (equal variances),\n",
    "-Normal distribution of the variables (or residuals)."
   ]
  },
  {
   "cell_type": "code",
   "execution_count": 8,
   "id": "35edcb7a",
   "metadata": {},
   "outputs": [],
   "source": [
    "from scipy import stats\n",
    "\n",
    "def test_pearson(x, y, alpha=0.05):\n",
    "    if len(x) != len(y):\n",
    "        raise ValueError(\"Las variables deben tener la misma longitud.\")\n",
    "\n",
    "    r, pval = stats.pearsonr(x, y)\n",
    "\n",
    "    print(f\"Pearson's correlation coefficient (r): {r:.3f}\")\n",
    "    print(f\"p-value: {pval:.4f}\")\n",
    "\n",
    "    if pval < alpha:\n",
    "        print(f\"✔️ Significant linear relationship (p < {alpha:.3f})\")\n",
    "    else:\n",
    "        print(f\"⚠️ No significant linear relationship (p ≥ {alpha:.3f})\")\n",
    "\n",
    "    if r > 0:\n",
    "        print(\"📈 Positive linear correlation\")\n",
    "    else:\n",
    "        print(\"📉 Negative linear correlation\")"
   ]
  },
  {
   "cell_type": "code",
   "execution_count": 9,
   "id": "1eb19677",
   "metadata": {},
   "outputs": [
    {
     "name": "stdout",
     "output_type": "stream",
     "text": [
      "Pearson's correlation coefficient (r): 0.882\n",
      "p-value: 0.0000\n",
      "✔️ Significant linear relationship (p < 0.050)\n",
      "📈 Positive linear correlation\n"
     ]
    }
   ],
   "source": [
    "test_pearson(CO2Data[\"ta_micromol_kg\"], CO2Data[\"dic_micromol_kg\"])"
   ]
  }
 ],
 "metadata": {
  "kernelspec": {
   "display_name": "base",
   "language": "python",
   "name": "python3"
  },
  "language_info": {
   "codemirror_mode": {
    "name": "ipython",
    "version": 3
   },
   "file_extension": ".py",
   "mimetype": "text/x-python",
   "name": "python",
   "nbconvert_exporter": "python",
   "pygments_lexer": "ipython3",
   "version": "3.13.5"
  }
 },
 "nbformat": 4,
 "nbformat_minor": 5
}
