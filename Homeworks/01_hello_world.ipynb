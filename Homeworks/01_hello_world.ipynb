{
 "cells": [
  {
   "cell_type": "markdown",
   "id": "a18fbe20",
   "metadata": {},
   "source": [
    "# Mi primer programa\n",
    "## Segunda linea\n",
    "**Negritas**"
   ]
  },
  {
   "cell_type": "code",
   "execution_count": 10,
   "id": "a9e04772",
   "metadata": {},
   "outputs": [
    {
     "name": "stdout",
     "output_type": "stream",
     "text": [
      "hola mundo\n"
     ]
    }
   ],
   "source": [
    "print(\"hola mundo\")"
   ]
  },
  {
   "cell_type": "code",
   "execution_count": 5,
   "id": "e323ea31",
   "metadata": {},
   "outputs": [],
   "source": [
    "a = 1\n",
    "b = 2"
   ]
  },
  {
   "cell_type": "markdown",
   "id": "4f09bf3d",
   "metadata": {},
   "source": [
    "# Imprime C"
   ]
  },
  {
   "cell_type": "code",
   "execution_count": 7,
   "id": "d1fbc37a",
   "metadata": {},
   "outputs": [],
   "source": [
    "c = a + b"
   ]
  },
  {
   "cell_type": "code",
   "execution_count": 8,
   "id": "2fa914a4",
   "metadata": {},
   "outputs": [
    {
     "name": "stdout",
     "output_type": "stream",
     "text": [
      "3\n"
     ]
    }
   ],
   "source": [
    "print(c)"
   ]
  },
  {
   "cell_type": "code",
   "execution_count": 9,
   "id": "d54c32fa",
   "metadata": {},
   "outputs": [
    {
     "data": {
      "text/plain": [
       "8"
      ]
     },
     "execution_count": 9,
     "metadata": {},
     "output_type": "execute_result"
    }
   ],
   "source": [
    "1 + 7"
   ]
  },
  {
   "cell_type": "markdown",
   "id": "c9c399b9",
   "metadata": {},
   "source": [
    "# Exercises"
   ]
  },
  {
   "cell_type": "markdown",
   "id": "f83b69df",
   "metadata": {},
   "source": [
    "## *Part 1: Printing \"Hello, World!\"*\n",
    "### Task: Write a Python program that prints the message:"
   ]
  },
  {
   "cell_type": "code",
   "execution_count": 1,
   "id": "57f6df8a",
   "metadata": {},
   "outputs": [
    {
     "name": "stdout",
     "output_type": "stream",
     "text": [
      "Hello, World!\n"
     ]
    }
   ],
   "source": [
    "print(\"Hello, World!\")"
   ]
  },
  {
   "cell_type": "markdown",
   "id": "a054fec2",
   "metadata": {},
   "source": [
    "## *Part 2: Simple Arithmetic Operations*\n",
    "\n",
    "### Task: Create a Python script that performs the following operations and prints the results:"
   ]
  },
  {
   "cell_type": "markdown",
   "id": "b5dde7ad",
   "metadata": {},
   "source": [
    "#### 1. Addition: Add two numbers and print the result."
   ]
  },
  {
   "cell_type": "code",
   "execution_count": 6,
   "id": "8ff80661",
   "metadata": {},
   "outputs": [
    {
     "data": {
      "text/plain": [
       "54"
      ]
     },
     "execution_count": 6,
     "metadata": {},
     "output_type": "execute_result"
    }
   ],
   "source": [
    "15 + 39"
   ]
  },
  {
   "cell_type": "markdown",
   "id": "bf85e9a9",
   "metadata": {},
   "source": [
    "#### 2. Subtraction: Subtract one number from another and print the result."
   ]
  },
  {
   "cell_type": "code",
   "execution_count": 7,
   "id": "10e47025",
   "metadata": {},
   "outputs": [
    {
     "data": {
      "text/plain": [
       "10"
      ]
     },
     "execution_count": 7,
     "metadata": {},
     "output_type": "execute_result"
    }
   ],
   "source": [
    "40 - 30"
   ]
  },
  {
   "cell_type": "markdown",
   "id": "5e70b564",
   "metadata": {},
   "source": [
    "#### 3. Multiplication: Multiply two numbers and print the result."
   ]
  },
  {
   "cell_type": "code",
   "execution_count": 8,
   "id": "d09a7251",
   "metadata": {},
   "outputs": [
    {
     "data": {
      "text/plain": [
       "1125000"
      ]
     },
     "execution_count": 8,
     "metadata": {},
     "output_type": "execute_result"
    }
   ],
   "source": [
    "1500 * 750"
   ]
  },
  {
   "cell_type": "markdown",
   "id": "cf5ecbd7",
   "metadata": {},
   "source": [
    "#### 4. Division: Divide one number by another and print the result."
   ]
  },
  {
   "cell_type": "code",
   "execution_count": 9,
   "id": "a06e4753",
   "metadata": {},
   "outputs": [
    {
     "data": {
      "text/plain": [
       "15.311111111111112"
      ]
     },
     "execution_count": 9,
     "metadata": {},
     "output_type": "execute_result"
    }
   ],
   "source": [
    "689/45"
   ]
  }
 ],
 "metadata": {
  "kernelspec": {
   "display_name": "base",
   "language": "python",
   "name": "python3"
  },
  "language_info": {
   "codemirror_mode": {
    "name": "ipython",
    "version": 3
   },
   "file_extension": ".py",
   "mimetype": "text/x-python",
   "name": "python",
   "nbconvert_exporter": "python",
   "pygments_lexer": "ipython3",
   "version": "3.13.5"
  }
 },
 "nbformat": 4,
 "nbformat_minor": 5
}
