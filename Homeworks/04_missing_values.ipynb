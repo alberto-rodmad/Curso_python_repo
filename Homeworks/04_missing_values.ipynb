{
 "cells": [
  {
   "cell_type": "markdown",
   "id": "3ca41601",
   "metadata": {},
   "source": [
    "# Importing and explore environmental data"
   ]
  },
  {
   "cell_type": "code",
   "execution_count": 1,
   "id": "ce85af79",
   "metadata": {},
   "outputs": [],
   "source": [
    "def import_csv(file):\n",
    "    # Read the file into a DataFrame: df\n",
    "    import pandas as pd\n",
    "    return pd.read_csv(file)"
   ]
  },
  {
   "cell_type": "code",
   "execution_count": 2,
   "id": "3005ce12",
   "metadata": {},
   "outputs": [],
   "source": [
    "# Path to the file to be imported\n",
    "path = \"Modelab-Python\\data\\Terminos_lagoon_TA_DIC_2023_RawData.csv\"\n",
    "\n",
    "# Import the file\n",
    "CO2Data = import_csv(path)"
   ]
  },
  {
   "cell_type": "markdown",
   "id": "902b7342",
   "metadata": {},
   "source": [
    "## Exploring DataFrame"
   ]
  },
  {
   "cell_type": "code",
   "execution_count": 3,
   "id": "1a7082be",
   "metadata": {},
   "outputs": [
    {
     "name": "stdout",
     "output_type": "stream",
     "text": [
      "(106, 21)\n"
     ]
    }
   ],
   "source": [
    "# Print the number of rows and columns in the DataFrame\n",
    "print(CO2Data.shape)"
   ]
  },
  {
   "cell_type": "code",
   "execution_count": 4,
   "id": "c9688eb6",
   "metadata": {},
   "outputs": [
    {
     "name": "stdout",
     "output_type": "stream",
     "text": [
      "   sample      date     estuary   area station layer_depth season  \\\n",
      "0  CDL01S  5/3/2020  Candelaria  River   CDL01     Surface    Dry   \n",
      "1  CDL01F  5/3/2020  Candelaria  River   CDL01      Bottom    Dry   \n",
      "2  CDL02S  5/3/2020  Candelaria  River   CDL02     Surface    Dry   \n",
      "3  CDL02F  5/3/2020  Candelaria  River   CDL02      Bottom    Dry   \n",
      "4  CDL03S  5/3/2020  Candelaria  River   CDL03     Surface    Dry   \n",
      "\n",
      "   chlorophy_microg_l  cond_microsiemens_cm  depth_m  ...  do_mg_l  sal_psu  \\\n",
      "0                0.36                7015.4    0.464  ...     7.12     3.56   \n",
      "1                4.19               29886.1    7.792  ...     4.90    16.97   \n",
      "2                0.92               16691.1    0.453  ...     6.99     8.94   \n",
      "3                2.23               24847.4    1.261  ...     6.52    13.87   \n",
      "4                0.58               46341.6    0.465  ...     6.24    28.06   \n",
      "\n",
      "   sp_cond_microsiemens_cm  turbidity_fnu  temp_c  latitude  longitude  \\\n",
      "0                   6547.7           1.47  28.740  18.55736  -91.25012   \n",
      "1                  27751.2          95.33  29.028  18.55722  -91.24990   \n",
      "2                  15429.1           5.50  29.283  18.61007  -91.24410   \n",
      "3                  23074.0          13.44  29.024  18.61005  -91.24403   \n",
      "4                  43670.8           3.60  28.202  18.63166  -91.29359   \n",
      "\n",
      "   dic_micromol_kg  ta_micromol_kg  dummy_data  \n",
      "0             3915            3863      3685.0  \n",
      "1             3698            3685         NaN  \n",
      "2             3724            3708      3708.0  \n",
      "3             3667            3992      3992.0  \n",
      "4             2928            3023      3023.0  \n",
      "\n",
      "[5 rows x 21 columns]\n"
     ]
    }
   ],
   "source": [
    "# Print the head of the DataFrame\n",
    "print(CO2Data.head())"
   ]
  },
  {
   "cell_type": "markdown",
   "id": "a619bf5e",
   "metadata": {},
   "source": [
    "- Print information about a DataFrame including the index dtype and columns, non-null values and memory usage"
   ]
  },
  {
   "cell_type": "code",
   "execution_count": 5,
   "id": "9b47a0f0",
   "metadata": {},
   "outputs": [
    {
     "name": "stdout",
     "output_type": "stream",
     "text": [
      "<class 'pandas.core.frame.DataFrame'>\n",
      "RangeIndex: 106 entries, 0 to 105\n",
      "Data columns (total 21 columns):\n",
      " #   Column                   Non-Null Count  Dtype  \n",
      "---  ------                   --------------  -----  \n",
      " 0   sample                   106 non-null    object \n",
      " 1   date                     106 non-null    object \n",
      " 2   estuary                  106 non-null    object \n",
      " 3   area                     106 non-null    object \n",
      " 4   station                  106 non-null    object \n",
      " 5   layer_depth              106 non-null    object \n",
      " 6   season                   106 non-null    object \n",
      " 7   chlorophy_microg_l       106 non-null    float64\n",
      " 8   cond_microsiemens_cm     106 non-null    float64\n",
      " 9   depth_m                  106 non-null    float64\n",
      " 10  do_percent_sat           106 non-null    float64\n",
      " 11  do_mg_l                  106 non-null    float64\n",
      " 12  sal_psu                  106 non-null    float64\n",
      " 13  sp_cond_microsiemens_cm  106 non-null    float64\n",
      " 14  turbidity_fnu            106 non-null    float64\n",
      " 15  temp_c                   106 non-null    float64\n",
      " 16  latitude                 106 non-null    float64\n",
      " 17  longitude                106 non-null    float64\n",
      " 18  dic_micromol_kg          106 non-null    int64  \n",
      " 19  ta_micromol_kg           106 non-null    int64  \n",
      " 20  dummy_data               99 non-null     float64\n",
      "dtypes: float64(12), int64(2), object(7)\n",
      "memory usage: 17.5+ KB\n",
      "None\n"
     ]
    }
   ],
   "source": [
    "# Print information about the DataFrame\n",
    "print(CO2Data.info())"
   ]
  },
  {
   "cell_type": "code",
   "execution_count": 6,
   "id": "912a270a",
   "metadata": {},
   "outputs": [
    {
     "name": "stdout",
     "output_type": "stream",
     "text": [
      "       chlorophy_microg_l  cond_microsiemens_cm     depth_m  do_percent_sat  \\\n",
      "count          106.000000            106.000000  106.000000      106.000000   \n",
      "mean             6.545472          27895.183962    1.830160       89.515094   \n",
      "std             14.941262          20931.232513    2.038739       29.772291   \n",
      "min              0.360000             13.800000    0.105000        1.700000   \n",
      "25%              2.555000           1778.025000    0.428750       84.575000   \n",
      "50%              3.705000          33202.600000    0.638500       97.100000   \n",
      "75%              5.925000          47046.650000    2.883250      105.300000   \n",
      "max            150.900000          59988.600000    8.558000      174.100000   \n",
      "\n",
      "          do_mg_l     sal_psu  sp_cond_microsiemens_cm  turbidity_fnu  \\\n",
      "count  106.000000  106.000000               106.000000     106.000000   \n",
      "mean     6.474340   17.331981             27126.980189     100.429623   \n",
      "std      2.104254   13.578980             20527.530804     290.290113   \n",
      "min      0.120000    0.000000                13.700000       0.880000   \n",
      "25%      5.632500    0.857500              1706.875000       5.950000   \n",
      "50%      6.940000   19.760000             31803.250000      19.090000   \n",
      "75%      7.722500   30.297500             46668.975000      54.762500   \n",
      "max     11.660000   38.780000             58105.000000    2422.930000   \n",
      "\n",
      "           temp_c    latitude   longitude  dic_micromol_kg  ta_micromol_kg  \\\n",
      "count  106.000000  106.000000  106.000000       106.000000      106.000000   \n",
      "mean    26.758755   18.615912  -91.602783      2797.981132     2912.915094   \n",
      "std      0.917242    0.112832    0.240359       499.852416      472.694346   \n",
      "min     24.470000   18.424030  -91.902180      2152.000000     2357.000000   \n",
      "25%     26.062000   18.535825  -91.809810      2452.250000     2585.500000   \n",
      "50%     26.806000   18.610050  -91.786895      2646.500000     2823.000000   \n",
      "75%     27.153250   18.698798  -91.367565      2963.250000     3053.750000   \n",
      "max     29.283000   18.821780  -91.244000      4324.000000     4307.000000   \n",
      "\n",
      "        dummy_data  \n",
      "count    99.000000  \n",
      "mean   2902.888889  \n",
      "std     473.698989  \n",
      "min    2357.000000  \n",
      "25%    2561.500000  \n",
      "50%    2814.000000  \n",
      "75%    3029.000000  \n",
      "max    4307.000000  \n"
     ]
    }
   ],
   "source": [
    "# Print descriptive statistics\n",
    "print(CO2Data.describe())"
   ]
  },
  {
   "cell_type": "markdown",
   "id": "71e832f9",
   "metadata": {},
   "source": [
    "- Group the data by a categorical column, and calculate the mean and standard deviation of a numerical column"
   ]
  },
  {
   "cell_type": "markdown",
   "id": "fe07c895",
   "metadata": {},
   "source": [
    "## Missing values in each column."
   ]
  },
  {
   "cell_type": "code",
   "execution_count": 7,
   "id": "bf46b3a9",
   "metadata": {},
   "outputs": [
    {
     "name": "stdout",
     "output_type": "stream",
     "text": [
      "sample                     0\n",
      "date                       0\n",
      "estuary                    0\n",
      "area                       0\n",
      "station                    0\n",
      "layer_depth                0\n",
      "season                     0\n",
      "chlorophy_microg_l         0\n",
      "cond_microsiemens_cm       0\n",
      "depth_m                    0\n",
      "do_percent_sat             0\n",
      "do_mg_l                    0\n",
      "sal_psu                    0\n",
      "sp_cond_microsiemens_cm    0\n",
      "turbidity_fnu              0\n",
      "temp_c                     0\n",
      "latitude                   0\n",
      "longitude                  0\n",
      "dic_micromol_kg            0\n",
      "ta_micromol_kg             0\n",
      "dummy_data                 7\n",
      "dtype: int64\n"
     ]
    }
   ],
   "source": [
    "# Use the Pandas isnull() function to identify the number of missing values in each column.\n",
    "print(CO2Data.isnull().sum())"
   ]
  },
  {
   "cell_type": "markdown",
   "id": "188870fa",
   "metadata": {},
   "source": [
    "### Method to use for filling holes in reindexed Series:"
   ]
  },
  {
   "cell_type": "markdown",
   "id": "995bf30b",
   "metadata": {},
   "source": [
    "- ffill: propagate last valid observation forward to next valid.\n",
    "\n",
    "- bfill: use next valid observation to fill gap."
   ]
  },
  {
   "cell_type": "code",
   "execution_count": 8,
   "id": "2095f7cd",
   "metadata": {},
   "outputs": [],
   "source": [
    "# Create new data frame \n",
    "CO2Data_fill = CO2Data.copy()\n",
    "\n",
    "# Use fill method \n",
    "CO2Data_fill = CO2Data_fill.ffill()"
   ]
  },
  {
   "cell_type": "code",
   "execution_count": 9,
   "id": "0b262026",
   "metadata": {},
   "outputs": [
    {
     "name": "stdout",
     "output_type": "stream",
     "text": [
      "sample                     0\n",
      "date                       0\n",
      "estuary                    0\n",
      "area                       0\n",
      "station                    0\n",
      "layer_depth                0\n",
      "season                     0\n",
      "chlorophy_microg_l         0\n",
      "cond_microsiemens_cm       0\n",
      "depth_m                    0\n",
      "do_percent_sat             0\n",
      "do_mg_l                    0\n",
      "sal_psu                    0\n",
      "sp_cond_microsiemens_cm    0\n",
      "turbidity_fnu              0\n",
      "temp_c                     0\n",
      "latitude                   0\n",
      "longitude                  0\n",
      "dic_micromol_kg            0\n",
      "ta_micromol_kg             0\n",
      "dummy_data                 0\n",
      "dtype: int64\n"
     ]
    }
   ],
   "source": [
    "print(CO2Data_fill.isnull().sum())"
   ]
  },
  {
   "cell_type": "markdown",
   "id": "777af90d",
   "metadata": {},
   "source": [
    "#### Interpolation for filling missing values"
   ]
  },
  {
   "cell_type": "code",
   "execution_count": 10,
   "id": "ee129f22",
   "metadata": {},
   "outputs": [
    {
     "name": "stdout",
     "output_type": "stream",
     "text": [
      "sample                     0\n",
      "date                       0\n",
      "estuary                    0\n",
      "area                       0\n",
      "station                    0\n",
      "layer_depth                0\n",
      "season                     0\n",
      "chlorophy_microg_l         0\n",
      "cond_microsiemens_cm       0\n",
      "depth_m                    0\n",
      "do_percent_sat             0\n",
      "do_mg_l                    0\n",
      "sal_psu                    0\n",
      "sp_cond_microsiemens_cm    0\n",
      "turbidity_fnu              0\n",
      "temp_c                     0\n",
      "latitude                   0\n",
      "longitude                  0\n",
      "dic_micromol_kg            0\n",
      "ta_micromol_kg             0\n",
      "dummy_data                 0\n",
      "dtype: int64\n"
     ]
    }
   ],
   "source": [
    "# Create a copy of the original DataFrame\n",
    "CO2Data_fill_linear = CO2Data.copy()\n",
    "\n",
    "# Convert object columns to best possible dtypes\n",
    "CO2Data_fill_linear = CO2Data_fill_linear.infer_objects(copy=False)\n",
    "\n",
    "# Interpolate only numeric columns (ignore non-numeric ones)\n",
    "numeric_cols = CO2Data_fill_linear.select_dtypes(include='number').columns\n",
    "CO2Data_fill_linear[numeric_cols] = CO2Data_fill_linear[numeric_cols].interpolate(method='linear')\n",
    "\n",
    "# Print the number of missing values remaining in each column\n",
    "print(CO2Data_fill_linear.isnull().sum())"
   ]
  },
  {
   "cell_type": "markdown",
   "id": "32d2b87e",
   "metadata": {},
   "source": [
    "### Exercises:"
   ]
  },
  {
   "cell_type": "markdown",
   "id": "80eb75bd",
   "metadata": {},
   "source": [
    "#### - Create a new column called \"TA_DIC_ratio\" that is the ratio of TA to DIC"
   ]
  },
  {
   "cell_type": "code",
   "execution_count": 11,
   "id": "6fc67ce9",
   "metadata": {},
   "outputs": [
    {
     "name": "stdout",
     "output_type": "stream",
     "text": [
      "   ta_micromol_kg  dic_micromol_kg  TA_DIC_ratio\n",
      "0            3863             3915      0.986718\n",
      "1            3685             3698      0.996485\n",
      "2            3708             3724      0.995704\n",
      "3            3992             3667      1.088628\n",
      "4            3023             2928      1.032445\n"
     ]
    }
   ],
   "source": [
    "# Create a copy of the original DataFrame\n",
    "CO2Data_ratio = CO2Data.copy()\n",
    "\n",
    "# Create a new column \"TA_DIC_ratio\" as the ratio of TA to DIC\n",
    "CO2Data_ratio[\"TA_DIC_ratio\"] = CO2Data_ratio[\"ta_micromol_kg\"] / CO2Data_ratio[\"dic_micromol_kg\"]\n",
    "\n",
    "# Display the first few rows to verify the result\n",
    "print(CO2Data_ratio[[\"ta_micromol_kg\", \"dic_micromol_kg\", \"TA_DIC_ratio\"]].head())"
   ]
  },
  {
   "cell_type": "markdown",
   "id": "e8170022",
   "metadata": {},
   "source": [
    "#### - Calculate the mean and standard deviation of the \"TA_DIC_ratio\" for each season"
   ]
  },
  {
   "cell_type": "code",
   "execution_count": 12,
   "id": "f476742b",
   "metadata": {},
   "outputs": [
    {
     "name": "stdout",
     "output_type": "stream",
     "text": [
      "            mean       std\n",
      "season                    \n",
      "Dry     1.058558  0.086111\n",
      "Rainy   1.022350  0.100924\n"
     ]
    }
   ],
   "source": [
    "# Group the data by season and calculate mean and standard deviation of TA_DIC_ratio\n",
    "season_stats = CO2Data_ratio.groupby(\"season\")[\"TA_DIC_ratio\"].agg([\"mean\", \"std\"])\n",
    "\n",
    "# Display the result\n",
    "print(season_stats)"
   ]
  },
  {
   "cell_type": "markdown",
   "id": "c04961f2",
   "metadata": {},
   "source": [
    "#### - Calculate the mean and standard deviation of the \"TA_DIC_ratio\" for each season and area"
   ]
  },
  {
   "cell_type": "code",
   "execution_count": 13,
   "id": "de11dc79",
   "metadata": {},
   "outputs": [
    {
     "name": "stdout",
     "output_type": "stream",
     "text": [
      "                  mean       std\n",
      "season area                     \n",
      "Dry    Coast  1.115766  0.115033\n",
      "       Plume  1.059687  0.035574\n",
      "       River  1.000221  0.037747\n",
      "Rainy  Coast  1.090127  0.129658\n",
      "       Plume  1.025544  0.049222\n",
      "       River  0.945217  0.025084\n"
     ]
    }
   ],
   "source": [
    "# Group the data by season and area, then calculate mean and standard deviation of TA_DIC_ratio\n",
    "season_area_stats = CO2Data_ratio.groupby([\"season\", \"area\"])[\"TA_DIC_ratio\"].agg([\"mean\", \"std\"])\n",
    "\n",
    "# Display the result\n",
    "print(season_area_stats)"
   ]
  },
  {
   "cell_type": "markdown",
   "id": "424921d5",
   "metadata": {},
   "source": [
    "#### - Save the results to an Excel file called \"TA_DIC_Season_Areas.xlsx\""
   ]
  },
  {
   "cell_type": "code",
   "execution_count": 14,
   "id": "96127cda",
   "metadata": {},
   "outputs": [],
   "source": [
    "# Save the grouped statistics to an Excel file\n",
    "season_area_stats.to_excel(\"TA_DIC_Season_Areas.xlsx\")"
   ]
  }
 ],
 "metadata": {
  "kernelspec": {
   "display_name": "base",
   "language": "python",
   "name": "python3"
  },
  "language_info": {
   "codemirror_mode": {
    "name": "ipython",
    "version": 3
   },
   "file_extension": ".py",
   "mimetype": "text/x-python",
   "name": "python",
   "nbconvert_exporter": "python",
   "pygments_lexer": "ipython3",
   "version": "3.13.5"
  }
 },
 "nbformat": 4,
 "nbformat_minor": 5
}
