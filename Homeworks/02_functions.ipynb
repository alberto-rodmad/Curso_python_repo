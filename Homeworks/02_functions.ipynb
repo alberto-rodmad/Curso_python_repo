{
 "cells": [
  {
   "cell_type": "markdown",
   "id": "288ef5f3",
   "metadata": {},
   "source": [
    "# *Exercises: Create composite functions that evaluate the absolute value of a number.*"
   ]
  },
  {
   "cell_type": "markdown",
   "id": "1bb25b5b",
   "metadata": {},
   "source": [
    "## OPTION 1: Use your own functions (without using abs())\n",
    "### First, we create a function to transform a negative number into a positive one:"
   ]
  },
  {
   "cell_type": "code",
   "execution_count": 1,
   "id": "89882136",
   "metadata": {},
   "outputs": [],
   "source": [
    "def make_positive(x):\n",
    "    if x < 0:\n",
    "        return -x\n",
    "    else:\n",
    "        return x"
   ]
  },
  {
   "cell_type": "markdown",
   "id": "ab0b42a4",
   "metadata": {},
   "source": [
    "### Now let's compose this function with another one. For example:\n",
    "### Composition with addition:"
   ]
  },
  {
   "cell_type": "code",
   "execution_count": 2,
   "id": "97e9aff7",
   "metadata": {},
   "outputs": [],
   "source": [
    "def add_five(x):\n",
    "    return x + 5\n",
    "\n",
    "def abs_after_add_five(x):\n",
    "    return make_positive(add_five(x))"
   ]
  },
  {
   "cell_type": "markdown",
   "id": "ca4d03bb",
   "metadata": {},
   "source": [
    "### Example of use:"
   ]
  },
  {
   "cell_type": "code",
   "execution_count": 3,
   "id": "8619cb0a",
   "metadata": {},
   "outputs": [
    {
     "name": "stdout",
     "output_type": "stream",
     "text": [
      "5\n",
      "8\n"
     ]
    }
   ],
   "source": [
    "print(abs_after_add_five(-10))  # -10 + 5 = -5 → abs(-5) = 5\n",
    "print(abs_after_add_five(3))    # 3 + 5 = 8 → abs(8) = 8"
   ]
  },
  {
   "cell_type": "markdown",
   "id": "b660ce9b",
   "metadata": {},
   "source": [
    "## OPTION 2: Composition with multiple functions"
   ]
  },
  {
   "cell_type": "code",
   "execution_count": 7,
   "id": "4479f389",
   "metadata": {},
   "outputs": [],
   "source": [
    "def square(x):\n",
    "    return x * x\n",
    "\n",
    "def sqrt(x):\n",
    "    return x ** 0.5\n",
    "\n",
    "def absolute_via_square_root(x):\n",
    "    return sqrt(square(x))"
   ]
  },
  {
   "cell_type": "code",
   "execution_count": 12,
   "id": "27493568",
   "metadata": {},
   "outputs": [
    {
     "name": "stdout",
     "output_type": "stream",
     "text": [
      "El valor absoluto es: 8.0\n"
     ]
    }
   ],
   "source": [
    "x = float(input(\"Introduce un número: -8\"))\n",
    "\n",
    "def absolute(x):\n",
    "    if x < 0:\n",
    "        return -x\n",
    "    return x\n",
    "\n",
    "print(\"El valor absoluto es:\", absolute(x))"
   ]
  },
  {
   "cell_type": "markdown",
   "id": "7ff30670",
   "metadata": {},
   "source": [
    "## OPTION 3: Create a composite function that calculates the absolute value of the sum of two numbers.\n"
   ]
  },
  {
   "cell_type": "code",
   "execution_count": 13,
   "id": "a7f013e5",
   "metadata": {},
   "outputs": [
    {
     "name": "stdout",
     "output_type": "stream",
     "text": [
      "5\n"
     ]
    }
   ],
   "source": [
    "def sum_two_numbers(a, b):\n",
    "    return a + b\n",
    "\n",
    "def absolute_of_sum(a, b):\n",
    "    return make_positive(sum_two_numbers(a, b))\n",
    "\n",
    "print(absolute_of_sum(-7, 2))  # -5 → 5"
   ]
  }
 ],
 "metadata": {
  "kernelspec": {
   "display_name": "base",
   "language": "python",
   "name": "python3"
  },
  "language_info": {
   "codemirror_mode": {
    "name": "ipython",
    "version": 3
   },
   "file_extension": ".py",
   "mimetype": "text/x-python",
   "name": "python",
   "nbconvert_exporter": "python",
   "pygments_lexer": "ipython3",
   "version": "3.13.5"
  }
 },
 "nbformat": 4,
 "nbformat_minor": 5
}
